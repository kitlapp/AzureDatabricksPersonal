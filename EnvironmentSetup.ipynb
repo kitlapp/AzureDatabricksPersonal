{
 "cells": [
  {
   "cell_type": "markdown",
   "metadata": {
    "application/vnd.databricks.v1+cell": {
     "cellMetadata": {},
     "inputWidgets": {},
     "nuid": "5ad4b660-48ff-4acc-86aa-461daf3be435",
     "showTitle": false,
     "tableResultSettingsMap": {},
     "title": ""
    }
   },
   "source": [
    "# Setting Up the Environment for Personal Training\n",
    "This notebook includes instructions that cover all the core steps needed to set up a personal cloud environment for training purposes or for succeeding in Databricks Data Engineering Associate certifications. These steps include:\n",
    "\n",
    "- Creating an Azure free account  \n",
    "- Launching Azure Databricks  \n",
    "- Creating at least one single-node cluster, ensuring node availability in a supported region  \n",
    "- Linking the Databricks workspace to GitHub  \n",
    "- Ensuring that Unity Catalog is enabled "
   ]
  },
  {
   "cell_type": "markdown",
   "metadata": {
    "application/vnd.databricks.v1+cell": {
     "cellMetadata": {},
     "inputWidgets": {},
     "nuid": "f814ccee-73d0-473f-a1a9-325367a106fa",
     "showTitle": false,
     "tableResultSettingsMap": {},
     "title": ""
    }
   },
   "source": [
    "## Create an Azure Free Account\n",
    "Go to https://azure.microsoft.com/en-us/pricing/purchase-options/azure-account --> Click Try Azure for Free"
   ]
  },
  {
   "cell_type": "code",
   "execution_count": 0,
   "metadata": {
    "application/vnd.databricks.v1+cell": {
     "cellMetadata": {},
     "inputWidgets": {},
     "nuid": "e0e5186c-f227-4826-9750-cd43475e793a",
     "showTitle": false,
     "tableResultSettingsMap": {},
     "title": ""
    }
   },
   "outputs": [],
   "source": []
  }
 ],
 "metadata": {
  "application/vnd.databricks.v1+notebook": {
   "computePreferences": null,
   "dashboards": [],
   "environmentMetadata": {
    "base_environment": "",
    "environment_version": "2"
   },
   "inputWidgetPreferences": null,
   "language": "python",
   "notebookMetadata": {
    "pythonIndentUnit": 4
   },
   "notebookName": "EnvironmentSetup",
   "widgets": {}
  },
  "language_info": {
   "name": "python"
  }
 },
 "nbformat": 4,
 "nbformat_minor": 0
}
