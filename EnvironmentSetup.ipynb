{
  "cells": [
    {
      "cell_type": "markdown",
      "metadata": {
        "application/vnd.databricks.v1+cell": {
          "cellMetadata": {},
          "inputWidgets": {},
          "nuid": "5ad4b660-48ff-4acc-86aa-461daf3be435",
          "showTitle": false,
          "tableResultSettingsMap": {},
          "title": ""
        },
        "id": "EGdAkRZtDXKz"
      },
      "source": [
        "# Setting Up the Cloud Environment for Personal Training\n",
        "This notebook includes instructions that cover all the core steps needed to set up a personal cloud environment for training purposes or for succeeding in Databricks Data Engineering Associate certifications. These steps include:\n",
        "\n",
        "- Creating an Azure free account  \n",
        "- Launching Azure Databricks  \n",
        "- Creating at least one single-node cluster, ensuring node availability in a supported region  \n",
        "- Linking the Databricks workspace to GitHub  \n",
        "- Ensuring that Unity Catalog is enabled"
      ]
    },
    {
      "cell_type": "markdown",
      "metadata": {
        "application/vnd.databricks.v1+cell": {
          "cellMetadata": {},
          "inputWidgets": {},
          "nuid": "f814ccee-73d0-473f-a1a9-325367a106fa",
          "showTitle": false,
          "tableResultSettingsMap": {},
          "title": ""
        },
        "id": "9ismfdDRDXK0"
      },
      "source": [
        "## Create an Azure Free Account\n",
        "\n",
        "1.   Go to https://azure.microsoft.com/en-us/pricing/purchase-options/azure-account\n",
        "2.   Click \"Try Azure for Free\"\n",
        "3.   For a fresh account go and create a new microsoft email choosing \"create one\". Go along and fill date of birth and country/region and your first and last name. Note that Microsoft accepts multiple emails using the same first and last name. Complete the microsoft account creation.\n",
        "4.   Now you are prompted in a new menu which is related to Azure Free Account. Choose \"For personal use\" and fill the remaining necessary empty fields.  \n",
        "Note: You probably need a non used mobile phone if you already own an Azure free account.\n",
        "5.   Fill payment information with a non used debit card.  \n",
        "Note: This is the second strict part after mobile phone. Microsoft probably won't allow for a debit card that is already used in another free Azure account.\n",
        "\n",
        "\n",
        "\n",
        "\n"
      ]
    },
    {
      "cell_type": "markdown",
      "source": [
        "## Launch Azure Databricks\n",
        "\n",
        "\n",
        "1.   After the completion of the new Azure Free Account go to https://azure.microsoft.com/en-us/get-started/azure-portal and sign in with your newly created Microsoft credentials.\n",
        "2.   Choose \"Create a resource\" which is the first option after clicking the 3 horizontal lines.\n",
        "3. Find Azure Databricks anc click \"Create\".\n",
        "4. Leave Subscription as it is. Name the resource group with a name followed by \"rg\". Name thw workspace with the same name followed by \"ws\" instead of \"rg\". Choose France Central if you are in Greece. Germany West Central didn't have available nodes. According to the instructor, UK South will work as well but I didn't try this. Also pick the premium package of Azure Databricks.\n",
        "6. Next (Networking): Don't pick \"yes\" for anything at the next menu.\n",
        "7. Next (Encryption): Also don't pick anything.\n",
        "8. Next (Security & Compliance): Don't pick anything\n",
        "9. Next (Tags): DOn't fill anything\n",
        "10. Finally, click \"Review + Create\". If validation succedded click Create.\n",
        "11. Once the deployment is completed click \"Go to resource\" and click \"Launch Workspace\"\n",
        "\n",
        "\n"
      ],
      "metadata": {
        "id": "C-4wueW2jjNO"
      }
    },
    {
      "cell_type": "code",
      "execution_count": null,
      "metadata": {
        "application/vnd.databricks.v1+cell": {
          "cellMetadata": {},
          "inputWidgets": {},
          "nuid": "e0e5186c-f227-4826-9750-cd43475e793a",
          "showTitle": false,
          "tableResultSettingsMap": {},
          "title": ""
        },
        "id": "c_D0SL41DXK1"
      },
      "outputs": [],
      "source": []
    }
  ],
  "metadata": {
    "application/vnd.databricks.v1+notebook": {
      "computePreferences": null,
      "dashboards": [],
      "environmentMetadata": {
        "base_environment": "",
        "environment_version": "2"
      },
      "inputWidgetPreferences": null,
      "language": "python",
      "notebookMetadata": {
        "pythonIndentUnit": 4
      },
      "notebookName": "EnvironmentSetup",
      "widgets": {}
    },
    "language_info": {
      "name": "python"
    },
    "colab": {
      "provenance": []
    }
  },
  "nbformat": 4,
  "nbformat_minor": 0
}